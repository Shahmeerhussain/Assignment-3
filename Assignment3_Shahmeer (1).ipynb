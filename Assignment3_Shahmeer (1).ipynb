{
 "cells": [
  {
   "cell_type": "markdown",
   "metadata": {},
   "source": [
    "# Q no 1: Write a python program to find number of occurrences of given number in a list with out using built-in methods\n",
    "**1 generate a list of some random num which is repeated again and again\n",
    "**2 take user input any number\n",
    "**3 find the number of occurrences of that num in your list\n",
    "**4 print some message to user with that result"
   ]
  },
  {
   "cell_type": "code",
   "execution_count": 7,
   "metadata": {},
   "outputs": [
    {
     "name": "stdout",
     "output_type": "stream",
     "text": [
      "Enter any number:43\n",
      "2\n"
     ]
    }
   ],
   "source": [
    "rndlist=[255,42,43,3,23,45,43,23,47]\n",
    "numb=int(input(\"Enter any number:\"))\n",
    "def countX(rndlist, numb):\n",
    "    count = 0\n",
    "    for i in rndlist:\n",
    "        if(i == numb):\n",
    "            count +=1\n",
    "    return count\n",
    "print(countX(rndlist,numb))"
   ]
  },
  {
   "cell_type": "markdown",
   "metadata": {},
   "source": [
    "# Q no 2: [\"www.zframez.com\", \"www.wikipedia.org\", \"www.asp.net\", \"www.abcd.in\"]\n",
    "\n",
    "\n",
    "\n",
    "\n",
    "\n",
    "Write a python program to print website suffixes (com , org , net ,in) from this list\n",
    "\n",
    "Hint : Use split() method to perform this task </h3>\n",
    "\n"
   ]
  },
  {
   "cell_type": "code",
   "execution_count": 8,
   "metadata": {},
   "outputs": [
    {
     "name": "stdout",
     "output_type": "stream",
     "text": [
      "com\n",
      "org\n",
      "net\n",
      "in\n",
      "com\n",
      "org\n",
      "net\n",
      "in\n"
     ]
    }
   ],
   "source": [
    "lst = [\"www.zframez.com\",\"www.wikipedia.org\",\"www.asp.net\",\"www.abcd.in\"]\n",
    "for i in lst:\n",
    "    print(i.split('.')[-1])\n",
    "                    #OR\n",
    "print(\"www.zframez.com\".split('.')[-1])\n",
    "print( \"www.wikipedia.org\".split('.')[-1])\n",
    "print(\"www.asp.net\".split('.')[-1])\n",
    "print(\"www.abcd.in\".split('.')[-1])"
   ]
  },
  {
   "cell_type": "markdown",
   "metadata": {},
   "source": [
    "# Q no 3 : Write a program which can compute the factorial of a given numbers.\n",
    "\n",
    "\n",
    "**1 first take user input any number\n",
    "**2 calculate factorial of that input and then print the result to user"
   ]
  },
  {
   "cell_type": "code",
   "execution_count": 1,
   "metadata": {},
   "outputs": [
    {
     "name": "stdout",
     "output_type": "stream",
     "text": [
      "Enter a number : 2\n",
      "The factorial of 2 is 2\n"
     ]
    }
   ],
   "source": [
    "num = int(input(\"Enter a number : \"))\n",
    "factorial = 1\n",
    "if num < 0:\n",
    "    print(\"Sorry, We can't find Factorial of negative numbers\")\n",
    "elif num == 0:\n",
    "    print(\"The Factorial of 0 is 1\")\n",
    "else:\n",
    "    for i in range(1,num + 1):\n",
    "        factorial = factorial * i\n",
    "print(\"The factorial of\",num,\"is\",factorial)\n"
   ]
  },
  {
   "cell_type": "markdown",
   "metadata": {},
   "source": [
    "# Q 4 (a) : If you could invite anyone, living or deceased, to dinner, who would you invite? Make a list that includes at least three people you’d like to invite to dinner. Then use your list to print a message to each person, inviting them to dinner:"
   ]
  },
  {
   "cell_type": "code",
   "execution_count": 2,
   "metadata": {},
   "outputs": [
    {
     "name": "stdout",
     "output_type": "stream",
     "text": [
      "Ahmed ,I invite you on dinner at 9:00 O'clock\n",
      "Moiz ,I invite you on dinner at 9:00 O'clock\n",
      "Asjad ,I invite you on dinner at 9:00 O'clock\n"
     ]
    }
   ],
   "source": [
    "lst = ['Ahmed','Moiz','Asjad']\n",
    "for x in lst:\n",
    "    print(x,\",I invite you on dinner at 9:00 O'clock\")"
   ]
  },
  {
   "cell_type": "markdown",
   "metadata": {},
   "source": [
    "# Q 4 (b) : You just heard that one of your guests can’t make the dinner, so you need to send out a new set of invitations. You’ll have to think of someone else to invite:\n",
    "\n",
    "• Start with your program from Q 4 (a). Add a print statement at the end of your program stating the name of the guest who can’t make it.\n",
    "\n",
    "• Modify your list, replacing the name of the guest who can’t make it with the name of the new person you are inviting.\n",
    "\n",
    "• Print a second set of invitation messages, one for each person who is still in your list.\n"
   ]
  },
  {
   "cell_type": "code",
   "execution_count": 3,
   "metadata": {},
   "outputs": [
    {
     "name": "stdout",
     "output_type": "stream",
     "text": [
      "Ahmed Can't make the dinner\n"
     ]
    }
   ],
   "source": [
    "print(lst[0],\"Can't make the dinner\")"
   ]
  },
  {
   "cell_type": "code",
   "execution_count": 4,
   "metadata": {},
   "outputs": [],
   "source": [
    "lst[lst.index(\"Ahmed\")] = \"Maaz\""
   ]
  },
  {
   "cell_type": "code",
   "execution_count": 5,
   "metadata": {},
   "outputs": [
    {
     "data": {
      "text/plain": [
       "['Maaz', 'Moiz', 'Asjad']"
      ]
     },
     "execution_count": 5,
     "metadata": {},
     "output_type": "execute_result"
    }
   ],
   "source": [
    "lst"
   ]
  },
  {
   "cell_type": "code",
   "execution_count": 6,
   "metadata": {},
   "outputs": [
    {
     "name": "stdout",
     "output_type": "stream",
     "text": [
      "Maaz ,I invite you on dinner at 9:00 O'clock\n",
      "Moiz ,I invite you on dinner at 9:00 O'clock\n",
      "Asjad ,I invite you on dinner at 9:00 O'clock\n"
     ]
    }
   ],
   "source": [
    "for x in lst:\n",
    "    print(x,\",I invite you on dinner at 9:00 O'clock\")"
   ]
  },
  {
   "cell_type": "markdown",
   "metadata": {},
   "source": [
    "# Q 4 (c) : You just found a bigger dinner table, so now more space is available. Think of three more guests to invite to dinner:\n",
    "\n",
    "• Start with your program from Q 4 (a) and (b) Add a print statement to the end of your program informing people that you found a bigger dinner table.\n",
    "\n",
    "• Use insert() to add one new guest to the beginning of your list.\n",
    "\n",
    "• Use insert() to add one new guest to the middle of your list.\n",
    "\n",
    "• Use append() to add one new guest to the end of your list.\n",
    "\n",
    "• Print a new set of invitation messages, one for each person in your list.\n",
    "\n"
   ]
  },
  {
   "cell_type": "code",
   "execution_count": 7,
   "metadata": {},
   "outputs": [
    {
     "name": "stdout",
     "output_type": "stream",
     "text": [
      "Maaz , I found a bigger dinner table\n",
      "Moiz , I found a bigger dinner table\n",
      "Asjad , I found a bigger dinner table\n"
     ]
    }
   ],
   "source": [
    "for x in lst:\n",
    "    print(x,\", I found a bigger dinner table\")\n"
   ]
  },
  {
   "cell_type": "code",
   "execution_count": 8,
   "metadata": {},
   "outputs": [],
   "source": [
    "lst.insert(0,'Maaz Iqbal')\n"
   ]
  },
  {
   "cell_type": "code",
   "execution_count": 9,
   "metadata": {},
   "outputs": [],
   "source": [
    "lst.insert(2,'saad')"
   ]
  },
  {
   "cell_type": "code",
   "execution_count": 10,
   "metadata": {},
   "outputs": [],
   "source": [
    "lst.append('Ali')"
   ]
  },
  {
   "cell_type": "code",
   "execution_count": 11,
   "metadata": {},
   "outputs": [
    {
     "name": "stdout",
     "output_type": "stream",
     "text": [
      "Maaz Iqbal ,You all are invite you on dinner at 9:00 O'clock\n",
      "Maaz ,You all are invite you on dinner at 9:00 O'clock\n",
      "saad ,You all are invite you on dinner at 9:00 O'clock\n",
      "Moiz ,You all are invite you on dinner at 9:00 O'clock\n",
      "Asjad ,You all are invite you on dinner at 9:00 O'clock\n",
      "Ali ,You all are invite you on dinner at 9:00 O'clock\n"
     ]
    }
   ],
   "source": [
    "for x in lst:\n",
    "    print(x,\",You all are invite you on dinner at 9:00 O'clock\")"
   ]
  },
  {
   "cell_type": "markdown",
   "metadata": {},
   "source": [
    "# Q 5 : Here you have some data in variable below, your task is to make a list of specific word Surah then print the list and length of list:"
   ]
  },
  {
   "cell_type": "code",
   "execution_count": 32,
   "metadata": {},
   "outputs": [],
   "source": [
    "data = \"Sura I Who believe in the Unseen, Sura Are steadfast in prayer, And spend Sura out of what We Have provided for them;\"\n",
    "\n"
   ]
  },
  {
   "cell_type": "code",
   "execution_count": 33,
   "metadata": {},
   "outputs": [
    {
     "data": {
      "text/plain": [
       "'Sura I Who believe in the Unseen, Sura Are steadfast in prayer, And spend Sura out of what We Have provided for them;'"
      ]
     },
     "execution_count": 33,
     "metadata": {},
     "output_type": "execute_result"
    }
   ],
   "source": [
    "data"
   ]
  },
  {
   "cell_type": "code",
   "execution_count": 34,
   "metadata": {},
   "outputs": [],
   "source": [
    "data = data.split(\" \")"
   ]
  },
  {
   "cell_type": "code",
   "execution_count": 35,
   "metadata": {},
   "outputs": [
    {
     "data": {
      "text/plain": [
       "['Sura',\n",
       " 'I',\n",
       " 'Who',\n",
       " 'believe',\n",
       " 'in',\n",
       " 'the',\n",
       " 'Unseen,',\n",
       " 'Sura',\n",
       " 'Are',\n",
       " 'steadfast',\n",
       " 'in',\n",
       " 'prayer,',\n",
       " 'And',\n",
       " 'spend',\n",
       " 'Sura',\n",
       " 'out',\n",
       " 'of',\n",
       " 'what',\n",
       " 'We',\n",
       " 'Have',\n",
       " 'provided',\n",
       " 'for',\n",
       " 'them;']"
      ]
     },
     "execution_count": 35,
     "metadata": {},
     "output_type": "execute_result"
    }
   ],
   "source": [
    "data"
   ]
  },
  {
   "cell_type": "code",
   "execution_count": 45,
   "metadata": {},
   "outputs": [],
   "source": [
    "newlst = []"
   ]
  },
  {
   "cell_type": "code",
   "execution_count": 46,
   "metadata": {},
   "outputs": [],
   "source": [
    "for i in data:\n",
    "    if(i == 'Sura'):\n",
    "          newlst.append('Sura')"
   ]
  },
  {
   "cell_type": "code",
   "execution_count": 47,
   "metadata": {},
   "outputs": [
    {
     "name": "stdout",
     "output_type": "stream",
     "text": [
      "['Sura', 'Sura', 'Sura']\n",
      "3 time Sura appears in this data.\n"
     ]
    }
   ],
   "source": [
    "print(newlst)\n",
    "print(len(newlst),\"time Sura appears in this data.\")\n"
   ]
  },
  {
   "cell_type": "markdown",
   "metadata": {},
   "source": [
    "# Q no 6 : You have some name of cities in list named cities, Your task is to check whether Karachi is present in this list or not, if present print the index where the value Karachi is present:"
   ]
  },
  {
   "cell_type": "code",
   "execution_count": 31,
   "metadata": {},
   "outputs": [
    {
     "name": "stdout",
     "output_type": "stream",
     "text": [
      "Islamabad is present in list\n",
      "Index value of Islamabad is : 2\n"
     ]
    }
   ],
   "source": [
    "cities = ['lahore','Islamabad','karachi','peshawar','quetta','Badin']\n",
    "for i in cities:\n",
    "    if (i =='Islamabad'):\n",
    "        print(\"Islamabad is present in list\")\n",
    "print(\"Index value of Islamabad is :\",cities.index('karachi'))"
   ]
  },
  {
   "cell_type": "code",
   "execution_count": null,
   "metadata": {},
   "outputs": [],
   "source": []
  }
 ],
 "metadata": {
  "kernelspec": {
   "display_name": "Python 3",
   "language": "python",
   "name": "python3"
  },
  "language_info": {
   "codemirror_mode": {
    "name": "ipython",
    "version": 3
   },
   "file_extension": ".py",
   "mimetype": "text/x-python",
   "name": "python",
   "nbconvert_exporter": "python",
   "pygments_lexer": "ipython3",
   "version": "3.7.3"
  }
 },
 "nbformat": 4,
 "nbformat_minor": 2
}
